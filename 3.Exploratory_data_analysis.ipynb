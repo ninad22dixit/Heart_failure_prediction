{
 "cells": [
  {
   "cell_type": "markdown",
   "id": "48b7d354",
   "metadata": {},
   "source": [
    "## 3.1 Data profiling"
   ]
  },
  {
   "cell_type": "markdown",
   "id": "8058c1cd",
   "metadata": {},
   "source": [
    "### 3.1.1. Import relevant libraries"
   ]
  },
  {
   "cell_type": "code",
   "execution_count": 1,
   "id": "237f38c3",
   "metadata": {},
   "outputs": [],
   "source": [
    "import pandas as pd\n",
    "import matplotlib.pyplot as plt\n",
    "import seaborn as sns\n",
    "import os\n",
    "import numpy as np\n",
    "from sklearn.feature_selection import SelectKBest\n",
    "from sklearn.ensemble import ExtraTreesClassifier\n",
    "\n",
    "sns.set()"
   ]
  },
  {
   "cell_type": "markdown",
   "id": "2d1b00e1",
   "metadata": {},
   "source": [
    "### 3.1.2. Import wrangled data"
   ]
  },
  {
   "cell_type": "code",
   "execution_count": 2,
   "id": "b73fd512",
   "metadata": {},
   "outputs": [],
   "source": [
    "df = pd.read_csv('heart_wrangling.csv')"
   ]
  },
  {
   "cell_type": "markdown",
   "id": "0aa06c89",
   "metadata": {},
   "source": [
    "## 3.2 Identification and creation of features"
   ]
  },
  {
   "cell_type": "code",
   "execution_count": 3,
   "id": "a5784190",
   "metadata": {},
   "outputs": [
    {
     "data": {
      "text/html": [
       "<div>\n",
       "<style scoped>\n",
       "    .dataframe tbody tr th:only-of-type {\n",
       "        vertical-align: middle;\n",
       "    }\n",
       "\n",
       "    .dataframe tbody tr th {\n",
       "        vertical-align: top;\n",
       "    }\n",
       "\n",
       "    .dataframe thead th {\n",
       "        text-align: right;\n",
       "    }\n",
       "</style>\n",
       "<table border=\"1\" class=\"dataframe\">\n",
       "  <thead>\n",
       "    <tr style=\"text-align: right;\">\n",
       "      <th></th>\n",
       "      <th>Age</th>\n",
       "      <th>Sex</th>\n",
       "      <th>ChestPainType</th>\n",
       "      <th>RestingBP</th>\n",
       "      <th>Cholesterol</th>\n",
       "      <th>FastingBS</th>\n",
       "      <th>RestingECG</th>\n",
       "      <th>MaxHR</th>\n",
       "      <th>ExerciseAngina</th>\n",
       "      <th>Oldpeak</th>\n",
       "      <th>ST_Slope</th>\n",
       "      <th>HeartDisease</th>\n",
       "      <th>MaxHRCat</th>\n",
       "    </tr>\n",
       "  </thead>\n",
       "  <tbody>\n",
       "    <tr>\n",
       "      <th>0</th>\n",
       "      <td>40</td>\n",
       "      <td>M</td>\n",
       "      <td>ATA</td>\n",
       "      <td>140</td>\n",
       "      <td>289</td>\n",
       "      <td>0</td>\n",
       "      <td>Normal</td>\n",
       "      <td>172</td>\n",
       "      <td>N</td>\n",
       "      <td>0.0</td>\n",
       "      <td>Up</td>\n",
       "      <td>0</td>\n",
       "      <td>0</td>\n",
       "    </tr>\n",
       "    <tr>\n",
       "      <th>1</th>\n",
       "      <td>49</td>\n",
       "      <td>F</td>\n",
       "      <td>NAP</td>\n",
       "      <td>160</td>\n",
       "      <td>180</td>\n",
       "      <td>0</td>\n",
       "      <td>Normal</td>\n",
       "      <td>156</td>\n",
       "      <td>N</td>\n",
       "      <td>1.0</td>\n",
       "      <td>Flat</td>\n",
       "      <td>1</td>\n",
       "      <td>0</td>\n",
       "    </tr>\n",
       "    <tr>\n",
       "      <th>2</th>\n",
       "      <td>37</td>\n",
       "      <td>M</td>\n",
       "      <td>ATA</td>\n",
       "      <td>130</td>\n",
       "      <td>283</td>\n",
       "      <td>0</td>\n",
       "      <td>ST</td>\n",
       "      <td>98</td>\n",
       "      <td>N</td>\n",
       "      <td>0.0</td>\n",
       "      <td>Up</td>\n",
       "      <td>0</td>\n",
       "      <td>0</td>\n",
       "    </tr>\n",
       "    <tr>\n",
       "      <th>3</th>\n",
       "      <td>48</td>\n",
       "      <td>F</td>\n",
       "      <td>ASY</td>\n",
       "      <td>138</td>\n",
       "      <td>214</td>\n",
       "      <td>0</td>\n",
       "      <td>Normal</td>\n",
       "      <td>108</td>\n",
       "      <td>Y</td>\n",
       "      <td>1.5</td>\n",
       "      <td>Flat</td>\n",
       "      <td>1</td>\n",
       "      <td>0</td>\n",
       "    </tr>\n",
       "    <tr>\n",
       "      <th>4</th>\n",
       "      <td>54</td>\n",
       "      <td>M</td>\n",
       "      <td>NAP</td>\n",
       "      <td>150</td>\n",
       "      <td>195</td>\n",
       "      <td>0</td>\n",
       "      <td>Normal</td>\n",
       "      <td>122</td>\n",
       "      <td>N</td>\n",
       "      <td>0.0</td>\n",
       "      <td>Up</td>\n",
       "      <td>0</td>\n",
       "      <td>0</td>\n",
       "    </tr>\n",
       "  </tbody>\n",
       "</table>\n",
       "</div>"
      ],
      "text/plain": [
       "   Age Sex ChestPainType  RestingBP  Cholesterol  FastingBS RestingECG  MaxHR  \\\n",
       "0   40   M           ATA        140          289          0     Normal    172   \n",
       "1   49   F           NAP        160          180          0     Normal    156   \n",
       "2   37   M           ATA        130          283          0         ST     98   \n",
       "3   48   F           ASY        138          214          0     Normal    108   \n",
       "4   54   M           NAP        150          195          0     Normal    122   \n",
       "\n",
       "  ExerciseAngina  Oldpeak ST_Slope  HeartDisease  MaxHRCat  \n",
       "0              N      0.0       Up             0         0  \n",
       "1              N      1.0     Flat             1         0  \n",
       "2              N      0.0       Up             0         0  \n",
       "3              Y      1.5     Flat             1         0  \n",
       "4              N      0.0       Up             0         0  "
      ]
     },
     "execution_count": 3,
     "metadata": {},
     "output_type": "execute_result"
    }
   ],
   "source": [
    "df.head()"
   ]
  },
  {
   "cell_type": "code",
   "execution_count": 4,
   "id": "b302ff3d",
   "metadata": {},
   "outputs": [],
   "source": [
    "# Since 'MaxHR' has already been converted into numerical forms, we can drop the original column.\n",
    "\n",
    "df.drop(['MaxHR'], axis=1, inplace = True)"
   ]
  },
  {
   "cell_type": "code",
   "execution_count": 5,
   "id": "9b25cf97",
   "metadata": {},
   "outputs": [
    {
     "data": {
      "text/html": [
       "<div>\n",
       "<style scoped>\n",
       "    .dataframe tbody tr th:only-of-type {\n",
       "        vertical-align: middle;\n",
       "    }\n",
       "\n",
       "    .dataframe tbody tr th {\n",
       "        vertical-align: top;\n",
       "    }\n",
       "\n",
       "    .dataframe thead th {\n",
       "        text-align: right;\n",
       "    }\n",
       "</style>\n",
       "<table border=\"1\" class=\"dataframe\">\n",
       "  <thead>\n",
       "    <tr style=\"text-align: right;\">\n",
       "      <th></th>\n",
       "      <th>Age</th>\n",
       "      <th>Sex</th>\n",
       "      <th>ChestPainType</th>\n",
       "      <th>RestingBP</th>\n",
       "      <th>Cholesterol</th>\n",
       "      <th>FastingBS</th>\n",
       "      <th>RestingECG</th>\n",
       "      <th>ExerciseAngina</th>\n",
       "      <th>Oldpeak</th>\n",
       "      <th>ST_Slope</th>\n",
       "      <th>HeartDisease</th>\n",
       "      <th>MaxHRCat</th>\n",
       "    </tr>\n",
       "  </thead>\n",
       "  <tbody>\n",
       "    <tr>\n",
       "      <th>0</th>\n",
       "      <td>40</td>\n",
       "      <td>M</td>\n",
       "      <td>ATA</td>\n",
       "      <td>140</td>\n",
       "      <td>289</td>\n",
       "      <td>0</td>\n",
       "      <td>Normal</td>\n",
       "      <td>N</td>\n",
       "      <td>0.0</td>\n",
       "      <td>Up</td>\n",
       "      <td>0</td>\n",
       "      <td>0</td>\n",
       "    </tr>\n",
       "    <tr>\n",
       "      <th>1</th>\n",
       "      <td>49</td>\n",
       "      <td>F</td>\n",
       "      <td>NAP</td>\n",
       "      <td>160</td>\n",
       "      <td>180</td>\n",
       "      <td>0</td>\n",
       "      <td>Normal</td>\n",
       "      <td>N</td>\n",
       "      <td>1.0</td>\n",
       "      <td>Flat</td>\n",
       "      <td>1</td>\n",
       "      <td>0</td>\n",
       "    </tr>\n",
       "    <tr>\n",
       "      <th>2</th>\n",
       "      <td>37</td>\n",
       "      <td>M</td>\n",
       "      <td>ATA</td>\n",
       "      <td>130</td>\n",
       "      <td>283</td>\n",
       "      <td>0</td>\n",
       "      <td>ST</td>\n",
       "      <td>N</td>\n",
       "      <td>0.0</td>\n",
       "      <td>Up</td>\n",
       "      <td>0</td>\n",
       "      <td>0</td>\n",
       "    </tr>\n",
       "    <tr>\n",
       "      <th>3</th>\n",
       "      <td>48</td>\n",
       "      <td>F</td>\n",
       "      <td>ASY</td>\n",
       "      <td>138</td>\n",
       "      <td>214</td>\n",
       "      <td>0</td>\n",
       "      <td>Normal</td>\n",
       "      <td>Y</td>\n",
       "      <td>1.5</td>\n",
       "      <td>Flat</td>\n",
       "      <td>1</td>\n",
       "      <td>0</td>\n",
       "    </tr>\n",
       "    <tr>\n",
       "      <th>4</th>\n",
       "      <td>54</td>\n",
       "      <td>M</td>\n",
       "      <td>NAP</td>\n",
       "      <td>150</td>\n",
       "      <td>195</td>\n",
       "      <td>0</td>\n",
       "      <td>Normal</td>\n",
       "      <td>N</td>\n",
       "      <td>0.0</td>\n",
       "      <td>Up</td>\n",
       "      <td>0</td>\n",
       "      <td>0</td>\n",
       "    </tr>\n",
       "  </tbody>\n",
       "</table>\n",
       "</div>"
      ],
      "text/plain": [
       "   Age Sex ChestPainType  RestingBP  Cholesterol  FastingBS RestingECG  \\\n",
       "0   40   M           ATA        140          289          0     Normal   \n",
       "1   49   F           NAP        160          180          0     Normal   \n",
       "2   37   M           ATA        130          283          0         ST   \n",
       "3   48   F           ASY        138          214          0     Normal   \n",
       "4   54   M           NAP        150          195          0     Normal   \n",
       "\n",
       "  ExerciseAngina  Oldpeak ST_Slope  HeartDisease  MaxHRCat  \n",
       "0              N      0.0       Up             0         0  \n",
       "1              N      1.0     Flat             1         0  \n",
       "2              N      0.0       Up             0         0  \n",
       "3              Y      1.5     Flat             1         0  \n",
       "4              N      0.0       Up             0         0  "
      ]
     },
     "execution_count": 5,
     "metadata": {},
     "output_type": "execute_result"
    }
   ],
   "source": [
    "df.head()"
   ]
  },
  {
   "cell_type": "code",
   "execution_count": 6,
   "id": "2064bbaf",
   "metadata": {},
   "outputs": [
    {
     "name": "stdout",
     "output_type": "stream",
     "text": [
      "<class 'pandas.core.frame.DataFrame'>\n",
      "RangeIndex: 746 entries, 0 to 745\n",
      "Data columns (total 12 columns):\n",
      " #   Column          Non-Null Count  Dtype  \n",
      "---  ------          --------------  -----  \n",
      " 0   Age             746 non-null    int64  \n",
      " 1   Sex             746 non-null    object \n",
      " 2   ChestPainType   746 non-null    object \n",
      " 3   RestingBP       746 non-null    int64  \n",
      " 4   Cholesterol     746 non-null    int64  \n",
      " 5   FastingBS       746 non-null    int64  \n",
      " 6   RestingECG      746 non-null    object \n",
      " 7   ExerciseAngina  746 non-null    object \n",
      " 8   Oldpeak         746 non-null    float64\n",
      " 9   ST_Slope        746 non-null    object \n",
      " 10  HeartDisease    746 non-null    int64  \n",
      " 11  MaxHRCat        746 non-null    int64  \n",
      "dtypes: float64(1), int64(6), object(5)\n",
      "memory usage: 70.1+ KB\n"
     ]
    }
   ],
   "source": [
    "df.info()"
   ]
  },
  {
   "cell_type": "code",
   "execution_count": 7,
   "id": "62bcb341",
   "metadata": {},
   "outputs": [
    {
     "data": {
      "text/plain": [
       " 0.0    317\n",
       " 1.0     68\n",
       " 2.0     58\n",
       " 1.5     39\n",
       " 3.0     23\n",
       " 1.2     22\n",
       " 0.2     19\n",
       " 1.4     15\n",
       " 1.8     15\n",
       " 0.8     15\n",
       " 0.6     14\n",
       " 1.6     13\n",
       " 0.5     12\n",
       " 2.5     11\n",
       " 0.1     10\n",
       " 0.4     10\n",
       " 0.3      9\n",
       " 4.0      8\n",
       " 1.9      7\n",
       " 2.8      6\n",
       " 2.6      6\n",
       " 1.3      5\n",
       " 1.7      5\n",
       " 2.2      4\n",
       " 3.6      4\n",
       " 1.1      4\n",
       " 0.9      3\n",
       " 2.4      3\n",
       " 3.4      3\n",
       " 2.3      2\n",
       " 3.5      2\n",
       " 4.2      2\n",
       " 3.2      2\n",
       " 4.4      1\n",
       " 5.0      1\n",
       " 0.7      1\n",
       "-0.1      1\n",
       " 2.9      1\n",
       " 6.2      1\n",
       " 3.8      1\n",
       " 5.6      1\n",
       " 3.1      1\n",
       " 2.1      1\n",
       "Name: Oldpeak, dtype: int64"
      ]
     },
     "execution_count": 7,
     "metadata": {},
     "output_type": "execute_result"
    }
   ],
   "source": [
    "# 'Oldpeak' is ST depression induced by exercise relative to rest. Since we are not certain about the critical Oldpeak \n",
    "# values/range, we will keep the column as it is.\n",
    "\n",
    "df['Oldpeak'].value_counts()"
   ]
  },
  {
   "cell_type": "markdown",
   "id": "0c8a2c85",
   "metadata": {},
   "source": [
    "Similarly, we will keep 'Age','RestingBP' and 'Cholesterol' columns as they are since these are continuous features. Other categorical features will be one-hot encoded for further analysis."
   ]
  },
  {
   "cell_type": "markdown",
   "id": "05a85911",
   "metadata": {},
   "source": [
    "## 3.3 Explore data relationships"
   ]
  },
  {
   "cell_type": "markdown",
   "id": "6c549186",
   "metadata": {},
   "source": [
    "### 3.3.1. Correlation between variables"
   ]
  },
  {
   "cell_type": "code",
   "execution_count": 8,
   "id": "2ef424be",
   "metadata": {},
   "outputs": [
    {
     "data": {
      "image/png": "[encoded data removed]",
      "text/plain": [
       "<Figure size 864x720 with 2 Axes>"
      ]
     },
     "metadata": {},
     "output_type": "display_data"
    }
   ],
   "source": [
    "# Plot correlation heat map to realize relationships between various features.\n",
    "\n",
    "plt.figure(figsize=(12,10))\n",
    "sns.heatmap(df.corr(), annot=True)\n",
    "plt.show();"
   ]
  },
  {
   "cell_type": "markdown",
   "id": "fd28f0ec",
   "metadata": {},
   "source": [
    "Among numerical variables, Oldpeak (0.5) and Age (0.3) have a significant positive correlation with HeartDisease. 'Age' also has some correlation with 'Oldpeak', 'FastingBS', and 'RestingBP'."
   ]
  },
  {
   "cell_type": "markdown",
   "id": "7b64810a",
   "metadata": {},
   "source": [
    "### 3.3.2. 'HeartDisease' and categorical features"
   ]
  },
  {
   "cell_type": "code",
   "execution_count": 9,
   "id": "d100d5fa",
   "metadata": {},
   "outputs": [
    {
     "data": {
      "text/plain": [
       "<Figure size 432x288 with 0 Axes>"
      ]
     },
     "metadata": {},
     "output_type": "display_data"
    },
    {
     "data": {
      "image/png": "[encoded data removed]",
      "text/plain": [
       "<Figure size 720x360 with 2 Axes>"
      ]
     },
     "metadata": {},
     "output_type": "display_data"
    }
   ],
   "source": [
    "# Age, Sex, and heart disease\n",
    "\n",
    "plt.figure()\n",
    "g = sns.FacetGrid(df,  col=\"Sex\", hue = 'HeartDisease', height = 5, sharex=True)\n",
    "g.map(sns.histplot, 'Age', binwidth = 2, binrange = (20,80))\n",
    "plt.legend(['Normal','Heart Disease'])\n",
    "plt.show();"
   ]
  },
  {
   "cell_type": "markdown",
   "id": "681a309d",
   "metadata": {},
   "source": [
    "Men and women show different trends in this heart disease study. The fraction of men with a heart disease steadily goes up with age. However, less % of women have a heart disease than men across all age groups."
   ]
  },
  {
   "cell_type": "code",
   "execution_count": 10,
   "id": "90f0b5ee",
   "metadata": {},
   "outputs": [
    {
     "data": {
      "image/png": "[encoded data removed]",
      "text/plain": [
       "<Figure size 432x288 with 1 Axes>"
      ]
     },
     "metadata": {},
     "output_type": "display_data"
    }
   ],
   "source": [
    "# Chest pain and heart disease\n",
    "\n",
    "g = sns.barplot(x='ChestPainType', y='HeartDisease', hue='Sex', data=df, ci=None)\n",
    "g.set_xlabel('Chest Pain Type')\n",
    "g.set_ylabel('Fraction of patients with heart disease')\n",
    "plt.legend(['Male','Female'])\n",
    "plt.show();"
   ]
  },
  {
   "cell_type": "markdown",
   "id": "dfb8733a",
   "metadata": {},
   "source": [
    "Men show higher % of heart disease detection across all chest pain categories. The fraction is highest for asympomatic patients, both males and females. This means a large number of patients who did not show any chest pain were diagnosed with a heart disease. Patients with atypical angina (ATA) showed the lowest % of heart disease detection."
   ]
  },
  {
   "cell_type": "code",
   "execution_count": 11,
   "id": "292d93e3",
   "metadata": {},
   "outputs": [
    {
     "data": {
      "image/png": "[encoded data removed]",
      "text/plain": [
       "<Figure size 432x288 with 1 Axes>"
      ]
     },
     "metadata": {},
     "output_type": "display_data"
    }
   ],
   "source": [
    "# Resting blood pressure and heart disease\n",
    "\n",
    "g = sns.histplot(data=df[df.RestingBP > 50], x='RestingBP', hue='HeartDisease')\n",
    "g.set_xlabel('Resting blood pressure')\n",
    "g.set_ylabel('# patients')\n",
    "plt.legend(['Heart Disease','Normal'])\n",
    "plt.show();"
   ]
  },
  {
   "cell_type": "markdown",
   "id": "f7f486f0",
   "metadata": {},
   "source": [
    "A significant number patients diagnosed with heart disease reported blood pressure level < 150. This trend indicates a weak relationship between resting blood pressure and heart disease detection."
   ]
  },
  {
   "cell_type": "code",
   "execution_count": 12,
   "id": "7c5080d9",
   "metadata": {},
   "outputs": [
    {
     "data": {
      "image/png": "[encoded data removed]",
      "text/plain": [
       "<Figure size 432x288 with 1 Axes>"
      ]
     },
     "metadata": {},
     "output_type": "display_data"
    }
   ],
   "source": [
    "# Cholesterol level and heart disease\n",
    "\n",
    "g = sns.histplot(data=df[df.Cholesterol > 50], x='Cholesterol', hue='HeartDisease')\n",
    "g.set_xlabel('Cholesterol level')\n",
    "g.set_ylabel('# patients with heart disease')\n",
    "plt.legend(['Heart Disease','Normal'])\n",
    "plt.show();"
   ]
  },
  {
   "cell_type": "markdown",
   "id": "f87350a9",
   "metadata": {},
   "source": [
    "Many patients with a heart disease showed cholesterol levels < 240 (borderline high). However, as cholesterol levels increased, patients were more likely to be diagnosed with heart disease. A significant correlation between cholesterol level and heart disease diagnosis justifies the earlier decision of not using patients' medical records with missing cholesterol levels."
   ]
  },
  {
   "cell_type": "code",
   "execution_count": 13,
   "id": "3297748f",
   "metadata": {},
   "outputs": [
    {
     "data": {
      "image/png": "[encoded data removed]",
      "text/plain": [
       "<Figure size 432x288 with 1 Axes>"
      ]
     },
     "metadata": {},
     "output_type": "display_data"
    }
   ],
   "source": [
    "# Fasting blood sugar and heart disease\n",
    "\n",
    "g = sns.barplot(x='FastingBS', y='HeartDisease', hue='Sex', data=df, ci=None)\n",
    "g.set_xticklabels(['<= 120 mg/dl', '> 120 mg/dl'])\n",
    "g.set_xlabel('Fasting Sugar')\n",
    "g.set_ylabel('Patients with heart disease')\n",
    "plt.legend(['Male', 'Female'])\n",
    "plt.show();"
   ]
  },
  {
   "cell_type": "markdown",
   "id": "8657c15c",
   "metadata": {},
   "source": [
    "Nearly 50% of males and 20% of females with blood sugar level <= 120 had heart disease detected. On the other hand, nearly 70% males and 45% females with blood sugar > 120 (diabetic) had heart disease detected."
   ]
  },
  {
   "cell_type": "code",
   "execution_count": 14,
   "id": "e3754497",
   "metadata": {},
   "outputs": [
    {
     "data": {
      "image/png": "[encoded data removed]",
      "text/plain": [
       "<Figure size 432x288 with 1 Axes>"
      ]
     },
     "metadata": {},
     "output_type": "display_data"
    }
   ],
   "source": [
    "# Resting ECG and heart disease\n",
    "\n",
    "g = sns.barplot(x='RestingECG', y='HeartDisease', hue='Sex', data=df, ci=None)\n",
    "g.set_xlabel('Resting ECG results')\n",
    "g.set_ylabel('Patients with heart disease')\n",
    "plt.legend(['Male', 'Female'])\n",
    "plt.show();"
   ]
  },
  {
   "cell_type": "markdown",
   "id": "75c0dc27",
   "metadata": {},
   "source": [
    "ST and LVH indicate abnormalities in the ECG. Patients with ECG abnormality show a greater percentage of heart disease detection. However, the fraction of females with heart disease is significantly lower than males across every ECG result type."
   ]
  },
  {
   "cell_type": "code",
   "execution_count": 15,
   "id": "94fc2857",
   "metadata": {},
   "outputs": [
    {
     "data": {
      "image/png": "[encoded data removed]",
      "text/plain": [
       "<Figure size 432x288 with 1 Axes>"
      ]
     },
     "metadata": {},
     "output_type": "display_data"
    }
   ],
   "source": [
    "# Maximum heart rate and heart disease\n",
    "\n",
    "g = sns.barplot(x='MaxHRCat', y='HeartDisease', hue='Sex', data=df, ci=None)\n",
    "g.set_xticklabels(['Normal', 'High'])\n",
    "g.set_xlabel('Maximum heart rate')\n",
    "g.set_ylabel('Patients with heart disease')\n",
    "plt.legend(['Male', 'Female'])\n",
    "plt.show();"
   ]
  },
  {
   "cell_type": "markdown",
   "id": "af91eb60",
   "metadata": {},
   "source": [
    "More than 50% of males with maximum heart rate within normal range had heart disease detected. On the other hand, about 32% of males with maximum heart rate higher than the normal range were diagnosed with a heart disease. In contrast, about 22-24% of females were diagnosed with a heart disease irrespective on their maximum heart rate."
   ]
  },
  {
   "cell_type": "code",
   "execution_count": 16,
   "id": "ad89277e",
   "metadata": {},
   "outputs": [
    {
     "data": {
      "image/png": "[encoded data removed]",
      "text/plain": [
       "<Figure size 432x288 with 1 Axes>"
      ]
     },
     "metadata": {},
     "output_type": "display_data"
    }
   ],
   "source": [
    "# Exercise angina and heart disease\n",
    "\n",
    "g = sns.barplot(x='ExerciseAngina', y='HeartDisease', hue='Sex', data=df, ci=None)\n",
    "g.set_xlabel('Exercise angina results')\n",
    "g.set_ylabel('Patients with heart disease')\n",
    "plt.legend(['Male', 'Female'])\n",
    "plt.show();"
   ]
  },
  {
   "cell_type": "markdown",
   "id": "0b3489a0",
   "metadata": {},
   "source": [
    "Both males and females with exercise angina showed a higher % heart disease diagnois. There is a clear relationship between exercise angina and heart disease."
   ]
  },
  {
   "cell_type": "code",
   "execution_count": 17,
   "id": "c83719cc",
   "metadata": {},
   "outputs": [
    {
     "data": {
      "image/png": "[encoded data removed]",
      "text/plain": [
       "<Figure size 432x288 with 1 Axes>"
      ]
     },
     "metadata": {},
     "output_type": "display_data"
    }
   ],
   "source": [
    "# Oldpeak value and heart disease\n",
    "\n",
    "g = sns.histplot(data=df, x='Oldpeak', hue='HeartDisease')\n",
    "g.set_xlabel('Oldpeak')\n",
    "g.set_ylabel('# patients')\n",
    "plt.legend(['Heart Disease', 'Normal'])\n",
    "plt.show();"
   ]
  },
  {
   "cell_type": "markdown",
   "id": "09655afc",
   "metadata": {},
   "source": [
    "Nearly 50% of total patients' records showed either no or small ST depression (Oldpeak). At high oldpeak values (> 1) patients were more likely to be diagnosed with a heart disease."
   ]
  },
  {
   "cell_type": "code",
   "execution_count": 18,
   "id": "a4825b49",
   "metadata": {},
   "outputs": [
    {
     "data": {
      "image/png": "[encoded data removed]",
      "text/plain": [
       "<Figure size 432x288 with 1 Axes>"
      ]
     },
     "metadata": {},
     "output_type": "display_data"
    }
   ],
   "source": [
    "# ST_Slope' and heart disease\n",
    "\n",
    "g = sns.countplot(data=df, x='ST_Slope', hue='HeartDisease')\n",
    "g.set_xlabel('ST_Slope')\n",
    "g.set_ylabel('Number of patients')\n",
    "plt.legend(['Normal', 'Heart Disease'])\n",
    "plt.show();"
   ]
  },
  {
   "cell_type": "markdown",
   "id": "27216a48",
   "metadata": {},
   "source": [
    "### 3.3.3 Feature Selection"
   ]
  },
  {
   "cell_type": "code",
   "execution_count": 19,
   "id": "69c70804",
   "metadata": {},
   "outputs": [
    {
     "data": {
      "text/plain": [
       "Index(['Age', 'Sex', 'ChestPainType', 'RestingBP', 'Cholesterol', 'FastingBS',\n",
       "       'RestingECG', 'ExerciseAngina', 'Oldpeak', 'ST_Slope', 'HeartDisease',\n",
       "       'MaxHRCat'],\n",
       "      dtype='object')"
      ]
     },
     "execution_count": 19,
     "metadata": {},
     "output_type": "execute_result"
    }
   ],
   "source": [
    "# Determine the strength of correlation between various variables and output feature ('HeartDisease') using 'SelectKBest'\n",
    "\n",
    "df.columns"
   ]
  },
  {
   "cell_type": "code",
   "execution_count": 20,
   "id": "8a3cebb3",
   "metadata": {},
   "outputs": [],
   "source": [
    "# Separate numerical and categorical variables\n",
    "\n",
    "cat_vars = ['Sex', 'ChestPainType','FastingBS', 'RestingECG', 'ExerciseAngina','ST_Slope', 'MaxHRCat']\n",
    "num_vars = ['Age', 'RestingBP', 'Cholesterol', 'Oldpeak']\n",
    "df_cat = df[cat_vars]\n",
    "df_num = df[num_vars]"
   ]
  },
  {
   "cell_type": "code",
   "execution_count": 21,
   "id": "40cd94d7",
   "metadata": {},
   "outputs": [
    {
     "data": {
      "text/html": [
       "<div>\n",
       "<style scoped>\n",
       "    .dataframe tbody tr th:only-of-type {\n",
       "        vertical-align: middle;\n",
       "    }\n",
       "\n",
       "    .dataframe tbody tr th {\n",
       "        vertical-align: top;\n",
       "    }\n",
       "\n",
       "    .dataframe thead th {\n",
       "        text-align: right;\n",
       "    }\n",
       "</style>\n",
       "<table border=\"1\" class=\"dataframe\">\n",
       "  <thead>\n",
       "    <tr style=\"text-align: right;\">\n",
       "      <th></th>\n",
       "      <th>Sex</th>\n",
       "      <th>ChestPainType</th>\n",
       "      <th>FastingBS</th>\n",
       "      <th>RestingECG</th>\n",
       "      <th>ExerciseAngina</th>\n",
       "      <th>ST_Slope</th>\n",
       "      <th>MaxHRCat</th>\n",
       "    </tr>\n",
       "  </thead>\n",
       "  <tbody>\n",
       "    <tr>\n",
       "      <th>0</th>\n",
       "      <td>M</td>\n",
       "      <td>ATA</td>\n",
       "      <td>0</td>\n",
       "      <td>Normal</td>\n",
       "      <td>N</td>\n",
       "      <td>Up</td>\n",
       "      <td>0</td>\n",
       "    </tr>\n",
       "    <tr>\n",
       "      <th>1</th>\n",
       "      <td>F</td>\n",
       "      <td>NAP</td>\n",
       "      <td>0</td>\n",
       "      <td>Normal</td>\n",
       "      <td>N</td>\n",
       "      <td>Flat</td>\n",
       "      <td>0</td>\n",
       "    </tr>\n",
       "    <tr>\n",
       "      <th>2</th>\n",
       "      <td>M</td>\n",
       "      <td>ATA</td>\n",
       "      <td>0</td>\n",
       "      <td>ST</td>\n",
       "      <td>N</td>\n",
       "      <td>Up</td>\n",
       "      <td>0</td>\n",
       "    </tr>\n",
       "    <tr>\n",
       "      <th>3</th>\n",
       "      <td>F</td>\n",
       "      <td>ASY</td>\n",
       "      <td>0</td>\n",
       "      <td>Normal</td>\n",
       "      <td>Y</td>\n",
       "      <td>Flat</td>\n",
       "      <td>0</td>\n",
       "    </tr>\n",
       "    <tr>\n",
       "      <th>4</th>\n",
       "      <td>M</td>\n",
       "      <td>NAP</td>\n",
       "      <td>0</td>\n",
       "      <td>Normal</td>\n",
       "      <td>N</td>\n",
       "      <td>Up</td>\n",
       "      <td>0</td>\n",
       "    </tr>\n",
       "  </tbody>\n",
       "</table>\n",
       "</div>"
      ],
      "text/plain": [
       "  Sex ChestPainType  FastingBS RestingECG ExerciseAngina ST_Slope  MaxHRCat\n",
       "0   M           ATA          0     Normal              N       Up         0\n",
       "1   F           NAP          0     Normal              N     Flat         0\n",
       "2   M           ATA          0         ST              N       Up         0\n",
       "3   F           ASY          0     Normal              Y     Flat         0\n",
       "4   M           NAP          0     Normal              N       Up         0"
      ]
     },
     "execution_count": 21,
     "metadata": {},
     "output_type": "execute_result"
    }
   ],
   "source": [
    "df_cat.head()"
   ]
  },
  {
   "cell_type": "code",
   "execution_count": 22,
   "id": "d57f365e",
   "metadata": {},
   "outputs": [
    {
     "data": {
      "text/html": [
       "<div>\n",
       "<style scoped>\n",
       "    .dataframe tbody tr th:only-of-type {\n",
       "        vertical-align: middle;\n",
       "    }\n",
       "\n",
       "    .dataframe tbody tr th {\n",
       "        vertical-align: top;\n",
       "    }\n",
       "\n",
       "    .dataframe thead th {\n",
       "        text-align: right;\n",
       "    }\n",
       "</style>\n",
       "<table border=\"1\" class=\"dataframe\">\n",
       "  <thead>\n",
       "    <tr style=\"text-align: right;\">\n",
       "      <th></th>\n",
       "      <th>FastingBS</th>\n",
       "      <th>MaxHRCat</th>\n",
       "      <th>Sex_M</th>\n",
       "      <th>ChestPainType_ATA</th>\n",
       "      <th>ChestPainType_NAP</th>\n",
       "      <th>ChestPainType_TA</th>\n",
       "      <th>RestingECG_Normal</th>\n",
       "      <th>RestingECG_ST</th>\n",
       "      <th>ExerciseAngina_Y</th>\n",
       "      <th>ST_Slope_Flat</th>\n",
       "      <th>ST_Slope_Up</th>\n",
       "    </tr>\n",
       "  </thead>\n",
       "  <tbody>\n",
       "    <tr>\n",
       "      <th>0</th>\n",
       "      <td>0</td>\n",
       "      <td>0</td>\n",
       "      <td>1</td>\n",
       "      <td>1</td>\n",
       "      <td>0</td>\n",
       "      <td>0</td>\n",
       "      <td>1</td>\n",
       "      <td>0</td>\n",
       "      <td>0</td>\n",
       "      <td>0</td>\n",
       "      <td>1</td>\n",
       "    </tr>\n",
       "    <tr>\n",
       "      <th>1</th>\n",
       "      <td>0</td>\n",
       "      <td>0</td>\n",
       "      <td>0</td>\n",
       "      <td>0</td>\n",
       "      <td>1</td>\n",
       "      <td>0</td>\n",
       "      <td>1</td>\n",
       "      <td>0</td>\n",
       "      <td>0</td>\n",
       "      <td>1</td>\n",
       "      <td>0</td>\n",
       "    </tr>\n",
       "    <tr>\n",
       "      <th>2</th>\n",
       "      <td>0</td>\n",
       "      <td>0</td>\n",
       "      <td>1</td>\n",
       "      <td>1</td>\n",
       "      <td>0</td>\n",
       "      <td>0</td>\n",
       "      <td>0</td>\n",
       "      <td>1</td>\n",
       "      <td>0</td>\n",
       "      <td>0</td>\n",
       "      <td>1</td>\n",
       "    </tr>\n",
       "    <tr>\n",
       "      <th>3</th>\n",
       "      <td>0</td>\n",
       "      <td>0</td>\n",
       "      <td>0</td>\n",
       "      <td>0</td>\n",
       "      <td>0</td>\n",
       "      <td>0</td>\n",
       "      <td>1</td>\n",
       "      <td>0</td>\n",
       "      <td>1</td>\n",
       "      <td>1</td>\n",
       "      <td>0</td>\n",
       "    </tr>\n",
       "    <tr>\n",
       "      <th>4</th>\n",
       "      <td>0</td>\n",
       "      <td>0</td>\n",
       "      <td>1</td>\n",
       "      <td>0</td>\n",
       "      <td>1</td>\n",
       "      <td>0</td>\n",
       "      <td>1</td>\n",
       "      <td>0</td>\n",
       "      <td>0</td>\n",
       "      <td>0</td>\n",
       "      <td>1</td>\n",
       "    </tr>\n",
       "  </tbody>\n",
       "</table>\n",
       "</div>"
      ],
      "text/plain": [
       "   FastingBS  MaxHRCat  Sex_M  ChestPainType_ATA  ChestPainType_NAP  \\\n",
       "0          0         0      1                  1                  0   \n",
       "1          0         0      0                  0                  1   \n",
       "2          0         0      1                  1                  0   \n",
       "3          0         0      0                  0                  0   \n",
       "4          0         0      1                  0                  1   \n",
       "\n",
       "   ChestPainType_TA  RestingECG_Normal  RestingECG_ST  ExerciseAngina_Y  \\\n",
       "0                 0                  1              0                 0   \n",
       "1                 0                  1              0                 0   \n",
       "2                 0                  0              1                 0   \n",
       "3                 0                  1              0                 1   \n",
       "4                 0                  1              0                 0   \n",
       "\n",
       "   ST_Slope_Flat  ST_Slope_Up  \n",
       "0              0            1  \n",
       "1              1            0  \n",
       "2              0            1  \n",
       "3              1            0  \n",
       "4              0            1  "
      ]
     },
     "execution_count": 22,
     "metadata": {},
     "output_type": "execute_result"
    }
   ],
   "source": [
    "# Create dummies of categorical variables\n",
    "\n",
    "df_dummies = pd.get_dummies(df_cat, drop_first=True)\n",
    "df_dummies.head()"
   ]
  },
  {
   "cell_type": "code",
   "execution_count": 23,
   "id": "fad1f12e",
   "metadata": {},
   "outputs": [],
   "source": [
    "# Combine numerical variables and dummies\n",
    "\n",
    "df1 = pd.concat([df_num, df_dummies], axis=1)"
   ]
  },
  {
   "cell_type": "code",
   "execution_count": 24,
   "id": "344995ab",
   "metadata": {},
   "outputs": [],
   "source": [
    "# Determine 10 best features\n",
    "\n",
    "best_features = SelectKBest(k=10)\n",
    "fit = best_features.fit(df1,df.HeartDisease)"
   ]
  },
  {
   "cell_type": "code",
   "execution_count": 25,
   "id": "884c36de",
   "metadata": {},
   "outputs": [],
   "source": [
    "df1_scores = pd.DataFrame(fit.scores_)\n",
    "df1_columns = pd.DataFrame(df1.columns)"
   ]
  },
  {
   "cell_type": "code",
   "execution_count": 26,
   "id": "37d1204b",
   "metadata": {},
   "outputs": [
    {
     "data": {
      "text/html": [
       "<div>\n",
       "<style scoped>\n",
       "    .dataframe tbody tr th:only-of-type {\n",
       "        vertical-align: middle;\n",
       "    }\n",
       "\n",
       "    .dataframe tbody tr th {\n",
       "        vertical-align: top;\n",
       "    }\n",
       "\n",
       "    .dataframe thead th {\n",
       "        text-align: right;\n",
       "    }\n",
       "</style>\n",
       "<table border=\"1\" class=\"dataframe\">\n",
       "  <thead>\n",
       "    <tr style=\"text-align: right;\">\n",
       "      <th></th>\n",
       "      <th>Feature</th>\n",
       "      <th>Score_K</th>\n",
       "    </tr>\n",
       "  </thead>\n",
       "  <tbody>\n",
       "    <tr>\n",
       "      <th>14</th>\n",
       "      <td>ST_Slope_Up</td>\n",
       "      <td>555.337461</td>\n",
       "    </tr>\n",
       "    <tr>\n",
       "      <th>13</th>\n",
       "      <td>ST_Slope_Flat</td>\n",
       "      <td>400.502052</td>\n",
       "    </tr>\n",
       "    <tr>\n",
       "      <th>12</th>\n",
       "      <td>ExerciseAngina_Y</td>\n",
       "      <td>325.766789</td>\n",
       "    </tr>\n",
       "    <tr>\n",
       "      <th>3</th>\n",
       "      <td>Oldpeak</td>\n",
       "      <td>242.364279</td>\n",
       "    </tr>\n",
       "    <tr>\n",
       "      <th>7</th>\n",
       "      <td>ChestPainType_ATA</td>\n",
       "      <td>122.224882</td>\n",
       "    </tr>\n",
       "    <tr>\n",
       "      <th>0</th>\n",
       "      <td>Age</td>\n",
       "      <td>72.839116</td>\n",
       "    </tr>\n",
       "    <tr>\n",
       "      <th>6</th>\n",
       "      <td>Sex_M</td>\n",
       "      <td>69.754525</td>\n",
       "    </tr>\n",
       "    <tr>\n",
       "      <th>8</th>\n",
       "      <td>ChestPainType_NAP</td>\n",
       "      <td>38.621444</td>\n",
       "    </tr>\n",
       "    <tr>\n",
       "      <th>1</th>\n",
       "      <td>RestingBP</td>\n",
       "      <td>23.020309</td>\n",
       "    </tr>\n",
       "    <tr>\n",
       "      <th>4</th>\n",
       "      <td>FastingBS</td>\n",
       "      <td>19.696078</td>\n",
       "    </tr>\n",
       "    <tr>\n",
       "      <th>10</th>\n",
       "      <td>RestingECG_Normal</td>\n",
       "      <td>13.449875</td>\n",
       "    </tr>\n",
       "    <tr>\n",
       "      <th>5</th>\n",
       "      <td>MaxHRCat</td>\n",
       "      <td>9.825863</td>\n",
       "    </tr>\n",
       "    <tr>\n",
       "      <th>2</th>\n",
       "      <td>Cholesterol</td>\n",
       "      <td>8.113851</td>\n",
       "    </tr>\n",
       "    <tr>\n",
       "      <th>11</th>\n",
       "      <td>RestingECG_ST</td>\n",
       "      <td>6.909002</td>\n",
       "    </tr>\n",
       "    <tr>\n",
       "      <th>9</th>\n",
       "      <td>ChestPainType_TA</td>\n",
       "      <td>2.156909</td>\n",
       "    </tr>\n",
       "  </tbody>\n",
       "</table>\n",
       "</div>"
      ],
      "text/plain": [
       "              Feature     Score_K\n",
       "14        ST_Slope_Up  555.337461\n",
       "13      ST_Slope_Flat  400.502052\n",
       "12   ExerciseAngina_Y  325.766789\n",
       "3             Oldpeak  242.364279\n",
       "7   ChestPainType_ATA  122.224882\n",
       "0                 Age   72.839116\n",
       "6               Sex_M   69.754525\n",
       "8   ChestPainType_NAP   38.621444\n",
       "1           RestingBP   23.020309\n",
       "4           FastingBS   19.696078\n",
       "10  RestingECG_Normal   13.449875\n",
       "5            MaxHRCat    9.825863\n",
       "2         Cholesterol    8.113851\n",
       "11      RestingECG_ST    6.909002\n",
       "9    ChestPainType_TA    2.156909"
      ]
     },
     "execution_count": 26,
     "metadata": {},
     "output_type": "execute_result"
    }
   ],
   "source": [
    "feature_scores_K = pd.concat([df1_columns, df1_scores], axis=1)\n",
    "feature_scores_K.columns = ['Feature', 'Score_K']\n",
    "feature_scores_K.sort_values(by = 'Score_K', ascending=False)"
   ]
  },
  {
   "cell_type": "code",
   "execution_count": 27,
   "id": "f6bc7f01",
   "metadata": {},
   "outputs": [
    {
     "data": {
      "text/plain": [
       "ExtraTreesClassifier()"
      ]
     },
     "execution_count": 27,
     "metadata": {},
     "output_type": "execute_result"
    }
   ],
   "source": [
    "# Determine the strength of correlation between various variables and output feature using 'ExtraTreesClassifier'\n",
    "\n",
    "model = ExtraTreesClassifier()\n",
    "model.fit(df1,df.HeartDisease)"
   ]
  },
  {
   "cell_type": "code",
   "execution_count": 28,
   "id": "286a6613",
   "metadata": {},
   "outputs": [],
   "source": [
    "feature_importances = pd.DataFrame(model.feature_importances_)"
   ]
  },
  {
   "cell_type": "code",
   "execution_count": 29,
   "id": "c113aa04",
   "metadata": {},
   "outputs": [
    {
     "data": {
      "text/html": [
       "<div>\n",
       "<style scoped>\n",
       "    .dataframe tbody tr th:only-of-type {\n",
       "        vertical-align: middle;\n",
       "    }\n",
       "\n",
       "    .dataframe tbody tr th {\n",
       "        vertical-align: top;\n",
       "    }\n",
       "\n",
       "    .dataframe thead th {\n",
       "        text-align: right;\n",
       "    }\n",
       "</style>\n",
       "<table border=\"1\" class=\"dataframe\">\n",
       "  <thead>\n",
       "    <tr style=\"text-align: right;\">\n",
       "      <th></th>\n",
       "      <th>Feature</th>\n",
       "      <th>Score_tree</th>\n",
       "    </tr>\n",
       "  </thead>\n",
       "  <tbody>\n",
       "    <tr>\n",
       "      <th>14</th>\n",
       "      <td>ST_Slope_Up</td>\n",
       "      <td>0.168323</td>\n",
       "    </tr>\n",
       "    <tr>\n",
       "      <th>13</th>\n",
       "      <td>ST_Slope_Flat</td>\n",
       "      <td>0.137299</td>\n",
       "    </tr>\n",
       "    <tr>\n",
       "      <th>12</th>\n",
       "      <td>ExerciseAngina_Y</td>\n",
       "      <td>0.125060</td>\n",
       "    </tr>\n",
       "    <tr>\n",
       "      <th>3</th>\n",
       "      <td>Oldpeak</td>\n",
       "      <td>0.099869</td>\n",
       "    </tr>\n",
       "    <tr>\n",
       "      <th>0</th>\n",
       "      <td>Age</td>\n",
       "      <td>0.080799</td>\n",
       "    </tr>\n",
       "    <tr>\n",
       "      <th>1</th>\n",
       "      <td>RestingBP</td>\n",
       "      <td>0.076340</td>\n",
       "    </tr>\n",
       "    <tr>\n",
       "      <th>2</th>\n",
       "      <td>Cholesterol</td>\n",
       "      <td>0.074106</td>\n",
       "    </tr>\n",
       "    <tr>\n",
       "      <th>6</th>\n",
       "      <td>Sex_M</td>\n",
       "      <td>0.055868</td>\n",
       "    </tr>\n",
       "    <tr>\n",
       "      <th>7</th>\n",
       "      <td>ChestPainType_ATA</td>\n",
       "      <td>0.045536</td>\n",
       "    </tr>\n",
       "    <tr>\n",
       "      <th>8</th>\n",
       "      <td>ChestPainType_NAP</td>\n",
       "      <td>0.035566</td>\n",
       "    </tr>\n",
       "    <tr>\n",
       "      <th>10</th>\n",
       "      <td>RestingECG_Normal</td>\n",
       "      <td>0.026994</td>\n",
       "    </tr>\n",
       "    <tr>\n",
       "      <th>5</th>\n",
       "      <td>MaxHRCat</td>\n",
       "      <td>0.021877</td>\n",
       "    </tr>\n",
       "    <tr>\n",
       "      <th>4</th>\n",
       "      <td>FastingBS</td>\n",
       "      <td>0.019233</td>\n",
       "    </tr>\n",
       "    <tr>\n",
       "      <th>11</th>\n",
       "      <td>RestingECG_ST</td>\n",
       "      <td>0.017775</td>\n",
       "    </tr>\n",
       "    <tr>\n",
       "      <th>9</th>\n",
       "      <td>ChestPainType_TA</td>\n",
       "      <td>0.015356</td>\n",
       "    </tr>\n",
       "  </tbody>\n",
       "</table>\n",
       "</div>"
      ],
      "text/plain": [
       "              Feature  Score_tree\n",
       "14        ST_Slope_Up    0.168323\n",
       "13      ST_Slope_Flat    0.137299\n",
       "12   ExerciseAngina_Y    0.125060\n",
       "3             Oldpeak    0.099869\n",
       "0                 Age    0.080799\n",
       "1           RestingBP    0.076340\n",
       "2         Cholesterol    0.074106\n",
       "6               Sex_M    0.055868\n",
       "7   ChestPainType_ATA    0.045536\n",
       "8   ChestPainType_NAP    0.035566\n",
       "10  RestingECG_Normal    0.026994\n",
       "5            MaxHRCat    0.021877\n",
       "4           FastingBS    0.019233\n",
       "11      RestingECG_ST    0.017775\n",
       "9    ChestPainType_TA    0.015356"
      ]
     },
     "execution_count": 29,
     "metadata": {},
     "output_type": "execute_result"
    }
   ],
   "source": [
    "feature_scores_tree = pd.concat([df1_columns,feature_importances], axis=1)\n",
    "feature_scores_tree.columns = ['Feature','Score_tree']\n",
    "feature_scores_tree.sort_values(by = 'Score_tree', ascending=False)"
   ]
  },
  {
   "cell_type": "code",
   "execution_count": 30,
   "id": "4da14989",
   "metadata": {},
   "outputs": [
    {
     "data": {
      "text/html": [
       "<div>\n",
       "<style scoped>\n",
       "    .dataframe tbody tr th:only-of-type {\n",
       "        vertical-align: middle;\n",
       "    }\n",
       "\n",
       "    .dataframe tbody tr th {\n",
       "        vertical-align: top;\n",
       "    }\n",
       "\n",
       "    .dataframe thead th {\n",
       "        text-align: right;\n",
       "    }\n",
       "</style>\n",
       "<table border=\"1\" class=\"dataframe\">\n",
       "  <thead>\n",
       "    <tr style=\"text-align: right;\">\n",
       "      <th></th>\n",
       "      <th>Feature</th>\n",
       "      <th>Score_K</th>\n",
       "      <th>Score_tree</th>\n",
       "    </tr>\n",
       "  </thead>\n",
       "  <tbody>\n",
       "    <tr>\n",
       "      <th>14</th>\n",
       "      <td>ST_Slope_Up</td>\n",
       "      <td>555.337461</td>\n",
       "      <td>0.168323</td>\n",
       "    </tr>\n",
       "    <tr>\n",
       "      <th>13</th>\n",
       "      <td>ST_Slope_Flat</td>\n",
       "      <td>400.502052</td>\n",
       "      <td>0.137299</td>\n",
       "    </tr>\n",
       "    <tr>\n",
       "      <th>12</th>\n",
       "      <td>ExerciseAngina_Y</td>\n",
       "      <td>325.766789</td>\n",
       "      <td>0.125060</td>\n",
       "    </tr>\n",
       "    <tr>\n",
       "      <th>3</th>\n",
       "      <td>Oldpeak</td>\n",
       "      <td>242.364279</td>\n",
       "      <td>0.099869</td>\n",
       "    </tr>\n",
       "    <tr>\n",
       "      <th>7</th>\n",
       "      <td>ChestPainType_ATA</td>\n",
       "      <td>122.224882</td>\n",
       "      <td>0.045536</td>\n",
       "    </tr>\n",
       "    <tr>\n",
       "      <th>0</th>\n",
       "      <td>Age</td>\n",
       "      <td>72.839116</td>\n",
       "      <td>0.080799</td>\n",
       "    </tr>\n",
       "    <tr>\n",
       "      <th>6</th>\n",
       "      <td>Sex_M</td>\n",
       "      <td>69.754525</td>\n",
       "      <td>0.055868</td>\n",
       "    </tr>\n",
       "    <tr>\n",
       "      <th>8</th>\n",
       "      <td>ChestPainType_NAP</td>\n",
       "      <td>38.621444</td>\n",
       "      <td>0.035566</td>\n",
       "    </tr>\n",
       "    <tr>\n",
       "      <th>1</th>\n",
       "      <td>RestingBP</td>\n",
       "      <td>23.020309</td>\n",
       "      <td>0.076340</td>\n",
       "    </tr>\n",
       "    <tr>\n",
       "      <th>4</th>\n",
       "      <td>FastingBS</td>\n",
       "      <td>19.696078</td>\n",
       "      <td>0.019233</td>\n",
       "    </tr>\n",
       "    <tr>\n",
       "      <th>10</th>\n",
       "      <td>RestingECG_Normal</td>\n",
       "      <td>13.449875</td>\n",
       "      <td>0.026994</td>\n",
       "    </tr>\n",
       "    <tr>\n",
       "      <th>5</th>\n",
       "      <td>MaxHRCat</td>\n",
       "      <td>9.825863</td>\n",
       "      <td>0.021877</td>\n",
       "    </tr>\n",
       "    <tr>\n",
       "      <th>2</th>\n",
       "      <td>Cholesterol</td>\n",
       "      <td>8.113851</td>\n",
       "      <td>0.074106</td>\n",
       "    </tr>\n",
       "    <tr>\n",
       "      <th>11</th>\n",
       "      <td>RestingECG_ST</td>\n",
       "      <td>6.909002</td>\n",
       "      <td>0.017775</td>\n",
       "    </tr>\n",
       "    <tr>\n",
       "      <th>9</th>\n",
       "      <td>ChestPainType_TA</td>\n",
       "      <td>2.156909</td>\n",
       "      <td>0.015356</td>\n",
       "    </tr>\n",
       "  </tbody>\n",
       "</table>\n",
       "</div>"
      ],
      "text/plain": [
       "              Feature     Score_K  Score_tree\n",
       "14        ST_Slope_Up  555.337461    0.168323\n",
       "13      ST_Slope_Flat  400.502052    0.137299\n",
       "12   ExerciseAngina_Y  325.766789    0.125060\n",
       "3             Oldpeak  242.364279    0.099869\n",
       "7   ChestPainType_ATA  122.224882    0.045536\n",
       "0                 Age   72.839116    0.080799\n",
       "6               Sex_M   69.754525    0.055868\n",
       "8   ChestPainType_NAP   38.621444    0.035566\n",
       "1           RestingBP   23.020309    0.076340\n",
       "4           FastingBS   19.696078    0.019233\n",
       "10  RestingECG_Normal   13.449875    0.026994\n",
       "5            MaxHRCat    9.825863    0.021877\n",
       "2         Cholesterol    8.113851    0.074106\n",
       "11      RestingECG_ST    6.909002    0.017775\n",
       "9    ChestPainType_TA    2.156909    0.015356"
      ]
     },
     "execution_count": 30,
     "metadata": {},
     "output_type": "execute_result"
    }
   ],
   "source": [
    "feature_scores_K['Score_tree'] = feature_scores_tree['Score_tree']\n",
    "feature_scores_K.sort_values(['Score_K'], ascending=False)"
   ]
  },
  {
   "cell_type": "markdown",
   "id": "34838c79",
   "metadata": {},
   "source": [
    "Feature impact scores determined using two methods (SelectKBest and ExtraTressClassifier) are in a different order for features with lower degree of impact. However, both methods have the same 3 features with highest degree of importance. These features are: ST_Slope, ExerciseAngina, and Oldpeak."
   ]
  },
  {
   "cell_type": "code",
   "execution_count": 31,
   "id": "e8c8d745",
   "metadata": {},
   "outputs": [],
   "source": [
    "# Save data in a new '.csv' file\n",
    "\n",
    "df.to_csv('heart_EDA.csv', index=False)"
   ]
  }
 ],
 "metadata": {
  "kernelspec": {
   "display_name": "Python 3",
   "language": "python",
   "name": "python3"
  },
  "language_info": {
   "codemirror_mode": {
    "name": "ipython",
    "version": 3
   },
   "file_extension": ".py",
   "mimetype": "text/x-python",
   "name": "python",
   "nbconvert_exporter": "python",
   "pygments_lexer": "ipython3",
   "version": "3.8.8"
  }
 },
 "nbformat": 4,
 "nbformat_minor": 5
}
